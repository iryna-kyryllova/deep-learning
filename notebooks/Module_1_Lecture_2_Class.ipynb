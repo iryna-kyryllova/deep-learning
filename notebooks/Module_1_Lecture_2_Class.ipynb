{
 "cells": [
  {
   "cell_type": "markdown",
   "id": "2bea5e27",
   "metadata": {},
   "source": [
    "<h1 style=\"text-align: center;\">Module 1. Structured data processing using neural networks\n",
    "</h1>\n",
    "<h2 style=\"text-align: center;\">Topic 2. Logistic regression. Artificial neuron</h2>"
   ]
  },
  {
   "cell_type": "code",
   "execution_count": 1,
   "id": "3bc12165",
   "metadata": {},
   "outputs": [],
   "source": [
    "import numpy as np\n",
    "import pandas as pd\n",
    "import matplotlib.pyplot as plt\n",
    "\n",
    "from sklearn.impute import SimpleImputer\n",
    "from sklearn.model_selection import train_test_split\n",
    "\n",
    "import warnings\n",
    "# filter warnings\n",
    "warnings.filterwarnings('ignore')"
   ]
  },
  {
   "cell_type": "markdown",
   "id": "637cc41c",
   "metadata": {},
   "source": [
    "## Dataset owerview"
   ]
  },
  {
   "cell_type": "markdown",
   "id": "ca655494",
   "metadata": {},
   "source": [
    "[Spaceship Titanic dataset](https://www.kaggle.com/competitions/spaceship-titanic/overview)\n",
    "\n",
    "**Data Field Description:**\n",
    "* `PassengerId` - A unique Id for each passenger. Each Id takes the form gggg_pp where gggg indicates a group the passenger is travelling with and pp is their number within the group. People in a group are often family members, but not always.\n",
    "* `HomePlanet` - The planet the passenger departed from, typically their planet of permanent residence.\n",
    "* `CryoSleep` - Indicates whether the passenger elected to be put into suspended animation for the duration of the voyage. Passengers in cryosleep are confined to their cabins.\n",
    "* `Cabin` - The cabin number where the passenger is staying. Takes the form deck/num/side, where side can be either P for Port or S for Starboard.\n",
    "* `Destination` - The planet the passenger will be debarking to.\n",
    "* `Age` - The age of the passenger.\n",
    "* `VIP` - Whether the passenger has paid for special VIP service during the voyage.\n",
    "* `RoomService`, `FoodCourt`, `ShoppingMall`, `Spa`, `VRDeck` - Amount the passenger has billed at each of the Spaceship Titanic's many luxury amenities.\n",
    "* `Name` - The first and last names of the passenger.\n",
    "* `Transported` - Whether the passenger was transported to another dimension. This is the target, the column you are trying to predict."
   ]
  },
  {
   "cell_type": "markdown",
   "id": "9e2b4ac9",
   "metadata": {},
   "source": [
    "## Exploratory Data Analysis"
   ]
  },
  {
   "cell_type": "code",
   "execution_count": 2,
   "id": "d85d4b3e",
   "metadata": {},
   "outputs": [],
   "source": [
    "# Reading data\n",
    "\n",
    "df = pd.read_csv('../data/Module_1_Lecture_2_Class_Spaceship_Titanic.csv')\n",
    "df = df.set_index('PassengerId')"
   ]
  },
  {
   "cell_type": "code",
   "execution_count": 3,
   "id": "426ed594",
   "metadata": {
    "scrolled": true
   },
   "outputs": [
    {
     "data": {
      "text/html": [
       "<div>\n",
       "<style scoped>\n",
       "    .dataframe tbody tr th:only-of-type {\n",
       "        vertical-align: middle;\n",
       "    }\n",
       "\n",
       "    .dataframe tbody tr th {\n",
       "        vertical-align: top;\n",
       "    }\n",
       "\n",
       "    .dataframe thead th {\n",
       "        text-align: right;\n",
       "    }\n",
       "</style>\n",
       "<table border=\"1\" class=\"dataframe\">\n",
       "  <thead>\n",
       "    <tr style=\"text-align: right;\">\n",
       "      <th></th>\n",
       "      <th>HomePlanet</th>\n",
       "      <th>CryoSleep</th>\n",
       "      <th>Cabin</th>\n",
       "      <th>Destination</th>\n",
       "      <th>Age</th>\n",
       "      <th>VIP</th>\n",
       "      <th>RoomService</th>\n",
       "      <th>FoodCourt</th>\n",
       "      <th>ShoppingMall</th>\n",
       "      <th>Spa</th>\n",
       "      <th>VRDeck</th>\n",
       "      <th>Name</th>\n",
       "      <th>Transported</th>\n",
       "    </tr>\n",
       "    <tr>\n",
       "      <th>PassengerId</th>\n",
       "      <th></th>\n",
       "      <th></th>\n",
       "      <th></th>\n",
       "      <th></th>\n",
       "      <th></th>\n",
       "      <th></th>\n",
       "      <th></th>\n",
       "      <th></th>\n",
       "      <th></th>\n",
       "      <th></th>\n",
       "      <th></th>\n",
       "      <th></th>\n",
       "      <th></th>\n",
       "    </tr>\n",
       "  </thead>\n",
       "  <tbody>\n",
       "    <tr>\n",
       "      <th>0001_01</th>\n",
       "      <td>Europa</td>\n",
       "      <td>False</td>\n",
       "      <td>B/0/P</td>\n",
       "      <td>TRAPPIST-1e</td>\n",
       "      <td>39.0</td>\n",
       "      <td>False</td>\n",
       "      <td>0.0</td>\n",
       "      <td>0.0</td>\n",
       "      <td>0.0</td>\n",
       "      <td>0.0</td>\n",
       "      <td>0.0</td>\n",
       "      <td>Maham Ofracculy</td>\n",
       "      <td>False</td>\n",
       "    </tr>\n",
       "    <tr>\n",
       "      <th>0002_01</th>\n",
       "      <td>Earth</td>\n",
       "      <td>False</td>\n",
       "      <td>F/0/S</td>\n",
       "      <td>TRAPPIST-1e</td>\n",
       "      <td>24.0</td>\n",
       "      <td>False</td>\n",
       "      <td>109.0</td>\n",
       "      <td>9.0</td>\n",
       "      <td>25.0</td>\n",
       "      <td>549.0</td>\n",
       "      <td>44.0</td>\n",
       "      <td>Juanna Vines</td>\n",
       "      <td>True</td>\n",
       "    </tr>\n",
       "    <tr>\n",
       "      <th>0003_01</th>\n",
       "      <td>Europa</td>\n",
       "      <td>False</td>\n",
       "      <td>A/0/S</td>\n",
       "      <td>TRAPPIST-1e</td>\n",
       "      <td>58.0</td>\n",
       "      <td>True</td>\n",
       "      <td>43.0</td>\n",
       "      <td>3576.0</td>\n",
       "      <td>0.0</td>\n",
       "      <td>6715.0</td>\n",
       "      <td>49.0</td>\n",
       "      <td>Altark Susent</td>\n",
       "      <td>False</td>\n",
       "    </tr>\n",
       "    <tr>\n",
       "      <th>0003_02</th>\n",
       "      <td>Europa</td>\n",
       "      <td>False</td>\n",
       "      <td>A/0/S</td>\n",
       "      <td>TRAPPIST-1e</td>\n",
       "      <td>33.0</td>\n",
       "      <td>False</td>\n",
       "      <td>0.0</td>\n",
       "      <td>1283.0</td>\n",
       "      <td>371.0</td>\n",
       "      <td>3329.0</td>\n",
       "      <td>193.0</td>\n",
       "      <td>Solam Susent</td>\n",
       "      <td>False</td>\n",
       "    </tr>\n",
       "    <tr>\n",
       "      <th>0004_01</th>\n",
       "      <td>Earth</td>\n",
       "      <td>False</td>\n",
       "      <td>F/1/S</td>\n",
       "      <td>TRAPPIST-1e</td>\n",
       "      <td>16.0</td>\n",
       "      <td>False</td>\n",
       "      <td>303.0</td>\n",
       "      <td>70.0</td>\n",
       "      <td>151.0</td>\n",
       "      <td>565.0</td>\n",
       "      <td>2.0</td>\n",
       "      <td>Willy Santantines</td>\n",
       "      <td>True</td>\n",
       "    </tr>\n",
       "  </tbody>\n",
       "</table>\n",
       "</div>"
      ],
      "text/plain": [
       "            HomePlanet CryoSleep  Cabin  Destination   Age    VIP  \\\n",
       "PassengerId                                                         \n",
       "0001_01         Europa     False  B/0/P  TRAPPIST-1e  39.0  False   \n",
       "0002_01          Earth     False  F/0/S  TRAPPIST-1e  24.0  False   \n",
       "0003_01         Europa     False  A/0/S  TRAPPIST-1e  58.0   True   \n",
       "0003_02         Europa     False  A/0/S  TRAPPIST-1e  33.0  False   \n",
       "0004_01          Earth     False  F/1/S  TRAPPIST-1e  16.0  False   \n",
       "\n",
       "             RoomService  FoodCourt  ShoppingMall     Spa  VRDeck  \\\n",
       "PassengerId                                                         \n",
       "0001_01              0.0        0.0           0.0     0.0     0.0   \n",
       "0002_01            109.0        9.0          25.0   549.0    44.0   \n",
       "0003_01             43.0     3576.0           0.0  6715.0    49.0   \n",
       "0003_02              0.0     1283.0         371.0  3329.0   193.0   \n",
       "0004_01            303.0       70.0         151.0   565.0     2.0   \n",
       "\n",
       "                          Name  Transported  \n",
       "PassengerId                                  \n",
       "0001_01        Maham Ofracculy        False  \n",
       "0002_01           Juanna Vines         True  \n",
       "0003_01          Altark Susent        False  \n",
       "0003_02           Solam Susent        False  \n",
       "0004_01      Willy Santantines         True  "
      ]
     },
     "execution_count": 3,
     "metadata": {},
     "output_type": "execute_result"
    }
   ],
   "source": [
    "# Dataset preview\n",
    "\n",
    "df.head()"
   ]
  },
  {
   "cell_type": "code",
   "execution_count": 4,
   "id": "e45858db",
   "metadata": {},
   "outputs": [
    {
     "data": {
      "text/plain": [
       "(8693, 13)"
      ]
     },
     "execution_count": 4,
     "metadata": {},
     "output_type": "execute_result"
    }
   ],
   "source": [
    "# Number of records and columns\n",
    "\n",
    "df.shape"
   ]
  },
  {
   "cell_type": "code",
   "execution_count": 5,
   "id": "32505fef",
   "metadata": {},
   "outputs": [
    {
     "name": "stdout",
     "output_type": "stream",
     "text": [
      "<class 'pandas.core.frame.DataFrame'>\n",
      "Index: 8693 entries, 0001_01 to 9280_02\n",
      "Data columns (total 13 columns):\n",
      " #   Column        Non-Null Count  Dtype  \n",
      "---  ------        --------------  -----  \n",
      " 0   HomePlanet    8492 non-null   object \n",
      " 1   CryoSleep     8476 non-null   object \n",
      " 2   Cabin         8494 non-null   object \n",
      " 3   Destination   8511 non-null   object \n",
      " 4   Age           8514 non-null   float64\n",
      " 5   VIP           8490 non-null   object \n",
      " 6   RoomService   8512 non-null   float64\n",
      " 7   FoodCourt     8510 non-null   float64\n",
      " 8   ShoppingMall  8485 non-null   float64\n",
      " 9   Spa           8510 non-null   float64\n",
      " 10  VRDeck        8505 non-null   float64\n",
      " 11  Name          8493 non-null   object \n",
      " 12  Transported   8693 non-null   bool   \n",
      "dtypes: bool(1), float64(6), object(6)\n",
      "memory usage: 891.4+ KB\n"
     ]
    }
   ],
   "source": [
    "# Basic dataset info \n",
    "\n",
    "df.info()"
   ]
  },
  {
   "cell_type": "code",
   "execution_count": 6,
   "id": "11f32a55",
   "metadata": {},
   "outputs": [],
   "source": [
    "TARGET = 'Transported'\n",
    "FEATURES = [col for col in df.columns if col != TARGET]"
   ]
  },
  {
   "cell_type": "code",
   "execution_count": 7,
   "id": "b48be4b3",
   "metadata": {},
   "outputs": [],
   "source": [
    "text_features = [\"Cabin\", \"Name\"]\n",
    "cat_features = [col for col in FEATURES if df[col].nunique() < 25 and col not in text_features ]\n",
    "cont_features = [col for col in FEATURES if df[col].nunique() >= 25 and col not in text_features ]"
   ]
  },
  {
   "cell_type": "code",
   "execution_count": 8,
   "id": "aac31fd3",
   "metadata": {},
   "outputs": [
    {
     "name": "stdout",
     "output_type": "stream",
     "text": [
      "Number of categorical features: 4\n",
      "Categorical features: ['HomePlanet', 'CryoSleep', 'Destination', 'VIP'] \n",
      "\n",
      "Number of continuos features: 6\n",
      "Continuos features: ['Age', 'RoomService', 'FoodCourt', 'ShoppingMall', 'Spa', 'VRDeck'] \n",
      "\n",
      "Number of text features: 2\n",
      "Text features: ['Cabin', 'Name']\n"
     ]
    }
   ],
   "source": [
    "print(f'Number of categorical features: {len(cat_features)}')\n",
    "print('Categorical features:', cat_features, '\\n')\n",
    "print(f'Number of continuos features: {len(cont_features)}')\n",
    "print('Continuos features:', cont_features, '\\n')\n",
    "print(f'Number of text features: {len(text_features)}')\n",
    "print('Text features:', text_features)"
   ]
  },
  {
   "cell_type": "code",
   "execution_count": 9,
   "id": "e3058ed7",
   "metadata": {},
   "outputs": [
    {
     "data": {
      "image/png": "[encoded data removed]",
      "text/plain": [
       "<Figure size 800x500 with 1 Axes>"
      ]
     },
     "metadata": {},
     "output_type": "display_data"
    }
   ],
   "source": [
    "ax = df[TARGET].value_counts().plot(kind='bar', figsize=(8, 5))\n",
    "for i in ax.containers:\n",
    "    ax.bar_label(i)\n",
    "    ax.set_xlabel(\"value\")\n",
    "    ax.set_ylabel(\"count\")\n",
    "            \n",
    "plt.suptitle(\"Target feature distribution\")\n",
    "\n",
    "plt.tight_layout()\n",
    "plt.show()"
   ]
  },
  {
   "cell_type": "markdown",
   "id": "2d06c22d",
   "metadata": {},
   "source": [
    "We can see that the target feature is distributed equally. That means we can use accuracy as a metric."
   ]
  },
  {
   "cell_type": "code",
   "execution_count": 10,
   "id": "655c0395",
   "metadata": {},
   "outputs": [
    {
     "data": {
      "image/png": "[encoded data removed]",
      "text/plain": [
       "<Figure size 1000x1200 with 6 Axes>"
      ]
     },
     "metadata": {},
     "output_type": "display_data"
    }
   ],
   "source": [
    "# Continuous features\n",
    "\n",
    "ax = df.loc[:, cont_features].hist(figsize=(10, 12), grid=False, edgecolor='black', linewidth=.4)\n",
    "for row in ax:\n",
    "    for col in row:\n",
    "        for i in col.containers:\n",
    "            col.bar_label(i)\n",
    "            col.set_xlabel(\"value\")\n",
    "            col.set_ylabel(\"count\")\n",
    "        \n",
    "plt.suptitle(\"Continuous features distribution\")\n",
    "\n",
    "plt.tight_layout()\n",
    "plt.show()"
   ]
  },
  {
   "cell_type": "markdown",
   "id": "d6da7be8",
   "metadata": {},
   "source": [
    "It looks like most of the passengers didn't use luxury services - all luxury amenities plots are heavily left-skewed. Let's create binary features for this services: if passanger used the service or not."
   ]
  },
  {
   "cell_type": "code",
   "execution_count": 11,
   "id": "2cb72938",
   "metadata": {},
   "outputs": [],
   "source": [
    "services_features = cont_features[1:]"
   ]
  },
  {
   "cell_type": "code",
   "execution_count": 12,
   "id": "1829bb5d",
   "metadata": {},
   "outputs": [],
   "source": [
    "for feature in services_features:\n",
    "    df[f'used_{feature}'] = df.loc[:, feature].apply(lambda x: 1 if x > 0 else 0)"
   ]
  },
  {
   "cell_type": "code",
   "execution_count": 13,
   "id": "334ca79a",
   "metadata": {},
   "outputs": [
    {
     "data": {
      "text/html": [
       "<style type=\"text/css\">\n",
       "#T_e3bf4_row0_col0, #T_e3bf4_row1_col1, #T_e3bf4_row2_col2, #T_e3bf4_row3_col3, #T_e3bf4_row4_col4, #T_e3bf4_row5_col5, #T_e3bf4_row6_col6, #T_e3bf4_row7_col7, #T_e3bf4_row8_col8 {\n",
       "  background-color: #023858;\n",
       "  color: #f1f1f1;\n",
       "}\n",
       "#T_e3bf4_row0_col1, #T_e3bf4_row0_col5 {\n",
       "  background-color: #ced0e6;\n",
       "  color: #000000;\n",
       "}\n",
       "#T_e3bf4_row0_col2, #T_e3bf4_row0_col4, #T_e3bf4_row7_col2 {\n",
       "  background-color: #c5cce3;\n",
       "  color: #000000;\n",
       "}\n",
       "#T_e3bf4_row0_col3 {\n",
       "  background-color: #dbdaeb;\n",
       "  color: #000000;\n",
       "}\n",
       "#T_e3bf4_row0_col6 {\n",
       "  background-color: #e8e4f0;\n",
       "  color: #000000;\n",
       "}\n",
       "#T_e3bf4_row0_col7, #T_e3bf4_row1_col2, #T_e3bf4_row2_col3, #T_e3bf4_row3_col2, #T_e3bf4_row5_col0 {\n",
       "  background-color: #e4e1ef;\n",
       "  color: #000000;\n",
       "}\n",
       "#T_e3bf4_row0_col8, #T_e3bf4_row1_col0, #T_e3bf4_row7_col6 {\n",
       "  background-color: #eae6f1;\n",
       "  color: #000000;\n",
       "}\n",
       "#T_e3bf4_row1_col3 {\n",
       "  background-color: #d7d6e9;\n",
       "  color: #000000;\n",
       "}\n",
       "#T_e3bf4_row1_col4, #T_e3bf4_row2_col0, #T_e3bf4_row2_col1, #T_e3bf4_row7_col3 {\n",
       "  background-color: #dedcec;\n",
       "  color: #000000;\n",
       "}\n",
       "#T_e3bf4_row1_col5, #T_e3bf4_row7_col0 {\n",
       "  background-color: #e6e2ef;\n",
       "  color: #000000;\n",
       "}\n",
       "#T_e3bf4_row1_col6, #T_e3bf4_row1_col8, #T_e3bf4_row6_col0, #T_e3bf4_row6_col1, #T_e3bf4_row6_col2, #T_e3bf4_row6_col3, #T_e3bf4_row6_col7, #T_e3bf4_row8_col0, #T_e3bf4_row8_col4, #T_e3bf4_row8_col5 {\n",
       "  background-color: #fff7fb;\n",
       "  color: #000000;\n",
       "}\n",
       "#T_e3bf4_row1_col7, #T_e3bf4_row4_col7 {\n",
       "  background-color: #ebe6f2;\n",
       "  color: #000000;\n",
       "}\n",
       "#T_e3bf4_row2_col4, #T_e3bf4_row2_col5, #T_e3bf4_row5_col2 {\n",
       "  background-color: #abbfdc;\n",
       "  color: #000000;\n",
       "}\n",
       "#T_e3bf4_row2_col6, #T_e3bf4_row3_col6 {\n",
       "  background-color: #faf3f9;\n",
       "  color: #000000;\n",
       "}\n",
       "#T_e3bf4_row2_col7, #T_e3bf4_row3_col4, #T_e3bf4_row5_col7 {\n",
       "  background-color: #dddbec;\n",
       "  color: #000000;\n",
       "}\n",
       "#T_e3bf4_row2_col8, #T_e3bf4_row7_col4 {\n",
       "  background-color: #d4d4e8;\n",
       "  color: #000000;\n",
       "}\n",
       "#T_e3bf4_row3_col0 {\n",
       "  background-color: #f0eaf4;\n",
       "  color: #000000;\n",
       "}\n",
       "#T_e3bf4_row3_col1 {\n",
       "  background-color: #d2d2e7;\n",
       "  color: #000000;\n",
       "}\n",
       "#T_e3bf4_row3_col5, #T_e3bf4_row7_col8 {\n",
       "  background-color: #e3e0ee;\n",
       "  color: #000000;\n",
       "}\n",
       "#T_e3bf4_row3_col7 {\n",
       "  background-color: #f1ebf5;\n",
       "  color: #000000;\n",
       "}\n",
       "#T_e3bf4_row3_col8 {\n",
       "  background-color: #dad9ea;\n",
       "  color: #000000;\n",
       "}\n",
       "#T_e3bf4_row4_col0, #T_e3bf4_row4_col3, #T_e3bf4_row5_col1, #T_e3bf4_row8_col3 {\n",
       "  background-color: #dfddec;\n",
       "  color: #000000;\n",
       "}\n",
       "#T_e3bf4_row4_col1, #T_e3bf4_row8_col2 {\n",
       "  background-color: #d9d8ea;\n",
       "  color: #000000;\n",
       "}\n",
       "#T_e3bf4_row4_col2 {\n",
       "  background-color: #acc0dd;\n",
       "  color: #000000;\n",
       "}\n",
       "#T_e3bf4_row4_col5 {\n",
       "  background-color: #c0c9e2;\n",
       "  color: #000000;\n",
       "}\n",
       "#T_e3bf4_row4_col6 {\n",
       "  background-color: #faf2f8;\n",
       "  color: #000000;\n",
       "}\n",
       "#T_e3bf4_row4_col8, #T_e3bf4_row6_col4 {\n",
       "  background-color: #fdf5fa;\n",
       "  color: #000000;\n",
       "}\n",
       "#T_e3bf4_row5_col3 {\n",
       "  background-color: #e2dfee;\n",
       "  color: #000000;\n",
       "}\n",
       "#T_e3bf4_row5_col4 {\n",
       "  background-color: #bdc8e1;\n",
       "  color: #000000;\n",
       "}\n",
       "#T_e3bf4_row5_col6, #T_e3bf4_row8_col7 {\n",
       "  background-color: #f9f2f8;\n",
       "  color: #000000;\n",
       "}\n",
       "#T_e3bf4_row5_col8 {\n",
       "  background-color: #fbf3f9;\n",
       "  color: #000000;\n",
       "}\n",
       "#T_e3bf4_row6_col5, #T_e3bf4_row8_col1 {\n",
       "  background-color: #fef6fb;\n",
       "  color: #000000;\n",
       "}\n",
       "#T_e3bf4_row6_col8 {\n",
       "  background-color: #509ac6;\n",
       "  color: #f1f1f1;\n",
       "}\n",
       "#T_e3bf4_row7_col1 {\n",
       "  background-color: #d1d2e6;\n",
       "  color: #000000;\n",
       "}\n",
       "#T_e3bf4_row7_col5 {\n",
       "  background-color: #c8cde4;\n",
       "  color: #000000;\n",
       "}\n",
       "#T_e3bf4_row8_col6 {\n",
       "  background-color: #4e9ac6;\n",
       "  color: #f1f1f1;\n",
       "}\n",
       "</style>\n",
       "<table id=\"T_e3bf4\">\n",
       "  <thead>\n",
       "    <tr>\n",
       "      <th class=\"blank level0\" >&nbsp;</th>\n",
       "      <th id=\"T_e3bf4_level0_col0\" class=\"col_heading level0 col0\" >Age</th>\n",
       "      <th id=\"T_e3bf4_level0_col1\" class=\"col_heading level0 col1\" >RoomService</th>\n",
       "      <th id=\"T_e3bf4_level0_col2\" class=\"col_heading level0 col2\" >FoodCourt</th>\n",
       "      <th id=\"T_e3bf4_level0_col3\" class=\"col_heading level0 col3\" >ShoppingMall</th>\n",
       "      <th id=\"T_e3bf4_level0_col4\" class=\"col_heading level0 col4\" >Spa</th>\n",
       "      <th id=\"T_e3bf4_level0_col5\" class=\"col_heading level0 col5\" >VRDeck</th>\n",
       "      <th id=\"T_e3bf4_level0_col6\" class=\"col_heading level0 col6\" >CryoSleep</th>\n",
       "      <th id=\"T_e3bf4_level0_col7\" class=\"col_heading level0 col7\" >VIP</th>\n",
       "      <th id=\"T_e3bf4_level0_col8\" class=\"col_heading level0 col8\" >Transported</th>\n",
       "    </tr>\n",
       "  </thead>\n",
       "  <tbody>\n",
       "    <tr>\n",
       "      <th id=\"T_e3bf4_level0_row0\" class=\"row_heading level0 row0\" >Age</th>\n",
       "      <td id=\"T_e3bf4_row0_col0\" class=\"data row0 col0\" >1.000000</td>\n",
       "      <td id=\"T_e3bf4_row0_col1\" class=\"data row0 col1\" >0.068723</td>\n",
       "      <td id=\"T_e3bf4_row0_col2\" class=\"data row0 col2\" >0.130421</td>\n",
       "      <td id=\"T_e3bf4_row0_col3\" class=\"data row0 col3\" >0.033133</td>\n",
       "      <td id=\"T_e3bf4_row0_col4\" class=\"data row0 col4\" >0.123970</td>\n",
       "      <td id=\"T_e3bf4_row0_col5\" class=\"data row0 col5\" >0.101007</td>\n",
       "      <td id=\"T_e3bf4_row0_col6\" class=\"data row0 col6\" >-0.074273</td>\n",
       "      <td id=\"T_e3bf4_row0_col7\" class=\"data row0 col7\" >0.092819</td>\n",
       "      <td id=\"T_e3bf4_row0_col8\" class=\"data row0 col8\" >-0.075026</td>\n",
       "    </tr>\n",
       "    <tr>\n",
       "      <th id=\"T_e3bf4_level0_row1\" class=\"row_heading level0 row1\" >RoomService</th>\n",
       "      <td id=\"T_e3bf4_row1_col0\" class=\"data row1 col0\" >0.068723</td>\n",
       "      <td id=\"T_e3bf4_row1_col1\" class=\"data row1 col1\" >1.000000</td>\n",
       "      <td id=\"T_e3bf4_row1_col2\" class=\"data row1 col2\" >-0.015889</td>\n",
       "      <td id=\"T_e3bf4_row1_col3\" class=\"data row1 col3\" >0.054480</td>\n",
       "      <td id=\"T_e3bf4_row1_col4\" class=\"data row1 col4\" >0.010080</td>\n",
       "      <td id=\"T_e3bf4_row1_col5\" class=\"data row1 col5\" >-0.019581</td>\n",
       "      <td id=\"T_e3bf4_row1_col6\" class=\"data row1 col6\" >-0.252396</td>\n",
       "      <td id=\"T_e3bf4_row1_col7\" class=\"data row1 col7\" >0.058785</td>\n",
       "      <td id=\"T_e3bf4_row1_col8\" class=\"data row1 col8\" >-0.244611</td>\n",
       "    </tr>\n",
       "    <tr>\n",
       "      <th id=\"T_e3bf4_level0_row2\" class=\"row_heading level0 row2\" >FoodCourt</th>\n",
       "      <td id=\"T_e3bf4_row2_col0\" class=\"data row2 col0\" >0.130421</td>\n",
       "      <td id=\"T_e3bf4_row2_col1\" class=\"data row2 col1\" >-0.015889</td>\n",
       "      <td id=\"T_e3bf4_row2_col2\" class=\"data row2 col2\" >1.000000</td>\n",
       "      <td id=\"T_e3bf4_row2_col3\" class=\"data row2 col3\" >-0.014228</td>\n",
       "      <td id=\"T_e3bf4_row2_col4\" class=\"data row2 col4\" >0.221891</td>\n",
       "      <td id=\"T_e3bf4_row2_col5\" class=\"data row2 col5\" >0.227995</td>\n",
       "      <td id=\"T_e3bf4_row2_col6\" class=\"data row2 col6\" >-0.211510</td>\n",
       "      <td id=\"T_e3bf4_row2_col7\" class=\"data row2 col7\" >0.129799</td>\n",
       "      <td id=\"T_e3bf4_row2_col8\" class=\"data row2 col8\" >0.046566</td>\n",
       "    </tr>\n",
       "    <tr>\n",
       "      <th id=\"T_e3bf4_level0_row3\" class=\"row_heading level0 row3\" >ShoppingMall</th>\n",
       "      <td id=\"T_e3bf4_row3_col0\" class=\"data row3 col0\" >0.033133</td>\n",
       "      <td id=\"T_e3bf4_row3_col1\" class=\"data row3 col1\" >0.054480</td>\n",
       "      <td id=\"T_e3bf4_row3_col2\" class=\"data row3 col2\" >-0.014228</td>\n",
       "      <td id=\"T_e3bf4_row3_col3\" class=\"data row3 col3\" >1.000000</td>\n",
       "      <td id=\"T_e3bf4_row3_col4\" class=\"data row3 col4\" >0.013879</td>\n",
       "      <td id=\"T_e3bf4_row3_col5\" class=\"data row3 col5\" >-0.007322</td>\n",
       "      <td id=\"T_e3bf4_row3_col6\" class=\"data row3 col6\" >-0.212514</td>\n",
       "      <td id=\"T_e3bf4_row3_col7\" class=\"data row3 col7\" >0.018295</td>\n",
       "      <td id=\"T_e3bf4_row3_col8\" class=\"data row3 col8\" >0.010141</td>\n",
       "    </tr>\n",
       "    <tr>\n",
       "      <th id=\"T_e3bf4_level0_row4\" class=\"row_heading level0 row4\" >Spa</th>\n",
       "      <td id=\"T_e3bf4_row4_col0\" class=\"data row4 col0\" >0.123970</td>\n",
       "      <td id=\"T_e3bf4_row4_col1\" class=\"data row4 col1\" >0.010080</td>\n",
       "      <td id=\"T_e3bf4_row4_col2\" class=\"data row4 col2\" >0.221891</td>\n",
       "      <td id=\"T_e3bf4_row4_col3\" class=\"data row4 col3\" >0.013879</td>\n",
       "      <td id=\"T_e3bf4_row4_col4\" class=\"data row4 col4\" >1.000000</td>\n",
       "      <td id=\"T_e3bf4_row4_col5\" class=\"data row4 col5\" >0.153821</td>\n",
       "      <td id=\"T_e3bf4_row4_col6\" class=\"data row4 col6\" >-0.203991</td>\n",
       "      <td id=\"T_e3bf4_row4_col7\" class=\"data row4 col7\" >0.061059</td>\n",
       "      <td id=\"T_e3bf4_row4_col8\" class=\"data row4 col8\" >-0.221131</td>\n",
       "    </tr>\n",
       "    <tr>\n",
       "      <th id=\"T_e3bf4_level0_row5\" class=\"row_heading level0 row5\" >VRDeck</th>\n",
       "      <td id=\"T_e3bf4_row5_col0\" class=\"data row5 col0\" >0.101007</td>\n",
       "      <td id=\"T_e3bf4_row5_col1\" class=\"data row5 col1\" >-0.019581</td>\n",
       "      <td id=\"T_e3bf4_row5_col2\" class=\"data row5 col2\" >0.227995</td>\n",
       "      <td id=\"T_e3bf4_row5_col3\" class=\"data row5 col3\" >-0.007322</td>\n",
       "      <td id=\"T_e3bf4_row5_col4\" class=\"data row5 col4\" >0.153821</td>\n",
       "      <td id=\"T_e3bf4_row5_col5\" class=\"data row5 col5\" >1.000000</td>\n",
       "      <td id=\"T_e3bf4_row5_col6\" class=\"data row5 col6\" >-0.198857</td>\n",
       "      <td id=\"T_e3bf4_row5_col7\" class=\"data row5 col7\" >0.125974</td>\n",
       "      <td id=\"T_e3bf4_row5_col8\" class=\"data row5 col8\" >-0.207075</td>\n",
       "    </tr>\n",
       "    <tr>\n",
       "      <th id=\"T_e3bf4_level0_row6\" class=\"row_heading level0 row6\" >CryoSleep</th>\n",
       "      <td id=\"T_e3bf4_row6_col0\" class=\"data row6 col0\" >-0.074273</td>\n",
       "      <td id=\"T_e3bf4_row6_col1\" class=\"data row6 col1\" >-0.252396</td>\n",
       "      <td id=\"T_e3bf4_row6_col2\" class=\"data row6 col2\" >-0.211510</td>\n",
       "      <td id=\"T_e3bf4_row6_col3\" class=\"data row6 col3\" >-0.212514</td>\n",
       "      <td id=\"T_e3bf4_row6_col4\" class=\"data row6 col4\" >-0.203991</td>\n",
       "      <td id=\"T_e3bf4_row6_col5\" class=\"data row6 col5\" >-0.198857</td>\n",
       "      <td id=\"T_e3bf4_row6_col6\" class=\"data row6 col6\" >1.000000</td>\n",
       "      <td id=\"T_e3bf4_row6_col7\" class=\"data row6 col7\" >-0.081402</td>\n",
       "      <td id=\"T_e3bf4_row6_col8\" class=\"data row6 col8\" >0.468645</td>\n",
       "    </tr>\n",
       "    <tr>\n",
       "      <th id=\"T_e3bf4_level0_row7\" class=\"row_heading level0 row7\" >VIP</th>\n",
       "      <td id=\"T_e3bf4_row7_col0\" class=\"data row7 col0\" >0.092819</td>\n",
       "      <td id=\"T_e3bf4_row7_col1\" class=\"data row7 col1\" >0.058785</td>\n",
       "      <td id=\"T_e3bf4_row7_col2\" class=\"data row7 col2\" >0.129799</td>\n",
       "      <td id=\"T_e3bf4_row7_col3\" class=\"data row7 col3\" >0.018295</td>\n",
       "      <td id=\"T_e3bf4_row7_col4\" class=\"data row7 col4\" >0.061059</td>\n",
       "      <td id=\"T_e3bf4_row7_col5\" class=\"data row7 col5\" >0.125974</td>\n",
       "      <td id=\"T_e3bf4_row7_col6\" class=\"data row7 col6\" >-0.081402</td>\n",
       "      <td id=\"T_e3bf4_row7_col7\" class=\"data row7 col7\" >1.000000</td>\n",
       "      <td id=\"T_e3bf4_row7_col8\" class=\"data row7 col8\" >-0.037650</td>\n",
       "    </tr>\n",
       "    <tr>\n",
       "      <th id=\"T_e3bf4_level0_row8\" class=\"row_heading level0 row8\" >Transported</th>\n",
       "      <td id=\"T_e3bf4_row8_col0\" class=\"data row8 col0\" >-0.075026</td>\n",
       "      <td id=\"T_e3bf4_row8_col1\" class=\"data row8 col1\" >-0.244611</td>\n",
       "      <td id=\"T_e3bf4_row8_col2\" class=\"data row8 col2\" >0.046566</td>\n",
       "      <td id=\"T_e3bf4_row8_col3\" class=\"data row8 col3\" >0.010141</td>\n",
       "      <td id=\"T_e3bf4_row8_col4\" class=\"data row8 col4\" >-0.221131</td>\n",
       "      <td id=\"T_e3bf4_row8_col5\" class=\"data row8 col5\" >-0.207075</td>\n",
       "      <td id=\"T_e3bf4_row8_col6\" class=\"data row8 col6\" >0.468645</td>\n",
       "      <td id=\"T_e3bf4_row8_col7\" class=\"data row8 col7\" >-0.037650</td>\n",
       "      <td id=\"T_e3bf4_row8_col8\" class=\"data row8 col8\" >1.000000</td>\n",
       "    </tr>\n",
       "  </tbody>\n",
       "</table>\n"
      ],
      "text/plain": [
       "<pandas.io.formats.style.Styler at 0x78b462c990c0>"
      ]
     },
     "execution_count": 13,
     "metadata": {},
     "output_type": "execute_result"
    }
   ],
   "source": [
    "# Correlation matrix\n",
    "\n",
    "df.loc[:, cont_features + ['CryoSleep', 'VIP', TARGET]].corr().style.background_gradient()"
   ]
  },
  {
   "cell_type": "markdown",
   "id": "1ca71107",
   "metadata": {},
   "source": [
    "We can see that input features are not correlated with oneself. So we won't drop any of the features."
   ]
  },
  {
   "cell_type": "markdown",
   "id": "6eb7f04a",
   "metadata": {},
   "source": [
    "## Preprocessing"
   ]
  },
  {
   "cell_type": "code",
   "execution_count": 14,
   "id": "72f33bc5",
   "metadata": {},
   "outputs": [],
   "source": [
    "# Imputing Missing Values \n",
    "\n",
    "imputer_cols = [\"Age\", \"FoodCourt\", \"ShoppingMall\", \"Spa\", \"VRDeck\" ,\"RoomService\"]\n",
    "imputer = SimpleImputer(strategy='median')\n",
    "imputer.fit(df[imputer_cols])\n",
    "df[imputer_cols] = imputer.transform(df[imputer_cols])"
   ]
  },
  {
   "cell_type": "code",
   "execution_count": 15,
   "id": "b11b529c",
   "metadata": {},
   "outputs": [],
   "source": [
    "df[\"HomePlanet\"].fillna('Gallifrey', inplace=True)\n",
    "df[\"Destination\"].fillna('Skaro', inplace=True)"
   ]
  },
  {
   "cell_type": "code",
   "execution_count": 16,
   "id": "6d1db6e2",
   "metadata": {},
   "outputs": [],
   "source": [
    "df['CryoSleep_is_missing'] = df['CryoSleep'].isna().astype(int)\n",
    "df['VIP_is_missing'] = df['VIP'].isna().astype(int)"
   ]
  },
  {
   "cell_type": "code",
   "execution_count": 17,
   "id": "952401cf",
   "metadata": {},
   "outputs": [
    {
     "data": {
      "text/plain": [
       "CryoSleep\n",
       "False    5439\n",
       "True     3037\n",
       "Name: count, dtype: int64"
      ]
     },
     "metadata": {},
     "output_type": "display_data"
    },
    {
     "data": {
      "text/plain": [
       "VIP\n",
       "False    8291\n",
       "True      199\n",
       "Name: count, dtype: int64"
      ]
     },
     "metadata": {},
     "output_type": "display_data"
    }
   ],
   "source": [
    "display(df['CryoSleep'].value_counts())\n",
    "display(df['VIP'].value_counts())"
   ]
  },
  {
   "cell_type": "code",
   "execution_count": 18,
   "id": "e51bf74e",
   "metadata": {},
   "outputs": [],
   "source": [
    "df[\"CryoSleep\"].fillna(False, inplace=True)\n",
    "df[\"VIP\"].fillna(False, inplace=True)\n",
    "\n",
    "df[\"CryoSleep\"] = df[\"CryoSleep\"].astype(int)\n",
    "df[\"VIP\"] = df[\"VIP\"].astype(int)"
   ]
  },
  {
   "cell_type": "code",
   "execution_count": 19,
   "id": "03969295",
   "metadata": {},
   "outputs": [],
   "source": [
    "dummies = pd.get_dummies(df.loc[:, ['HomePlanet', 'Destination']], dtype=int)"
   ]
  },
  {
   "cell_type": "code",
   "execution_count": 20,
   "id": "331ad42f",
   "metadata": {},
   "outputs": [
    {
     "data": {
      "text/html": [
       "<div>\n",
       "<style scoped>\n",
       "    .dataframe tbody tr th:only-of-type {\n",
       "        vertical-align: middle;\n",
       "    }\n",
       "\n",
       "    .dataframe tbody tr th {\n",
       "        vertical-align: top;\n",
       "    }\n",
       "\n",
       "    .dataframe thead th {\n",
       "        text-align: right;\n",
       "    }\n",
       "</style>\n",
       "<table border=\"1\" class=\"dataframe\">\n",
       "  <thead>\n",
       "    <tr style=\"text-align: right;\">\n",
       "      <th></th>\n",
       "      <th>HomePlanet_Earth</th>\n",
       "      <th>HomePlanet_Europa</th>\n",
       "      <th>HomePlanet_Gallifrey</th>\n",
       "      <th>HomePlanet_Mars</th>\n",
       "      <th>Destination_55 Cancri e</th>\n",
       "      <th>Destination_PSO J318.5-22</th>\n",
       "      <th>Destination_Skaro</th>\n",
       "      <th>Destination_TRAPPIST-1e</th>\n",
       "    </tr>\n",
       "    <tr>\n",
       "      <th>PassengerId</th>\n",
       "      <th></th>\n",
       "      <th></th>\n",
       "      <th></th>\n",
       "      <th></th>\n",
       "      <th></th>\n",
       "      <th></th>\n",
       "      <th></th>\n",
       "      <th></th>\n",
       "    </tr>\n",
       "  </thead>\n",
       "  <tbody>\n",
       "    <tr>\n",
       "      <th>0001_01</th>\n",
       "      <td>0</td>\n",
       "      <td>1</td>\n",
       "      <td>0</td>\n",
       "      <td>0</td>\n",
       "      <td>0</td>\n",
       "      <td>0</td>\n",
       "      <td>0</td>\n",
       "      <td>1</td>\n",
       "    </tr>\n",
       "    <tr>\n",
       "      <th>0002_01</th>\n",
       "      <td>1</td>\n",
       "      <td>0</td>\n",
       "      <td>0</td>\n",
       "      <td>0</td>\n",
       "      <td>0</td>\n",
       "      <td>0</td>\n",
       "      <td>0</td>\n",
       "      <td>1</td>\n",
       "    </tr>\n",
       "    <tr>\n",
       "      <th>0003_01</th>\n",
       "      <td>0</td>\n",
       "      <td>1</td>\n",
       "      <td>0</td>\n",
       "      <td>0</td>\n",
       "      <td>0</td>\n",
       "      <td>0</td>\n",
       "      <td>0</td>\n",
       "      <td>1</td>\n",
       "    </tr>\n",
       "    <tr>\n",
       "      <th>0003_02</th>\n",
       "      <td>0</td>\n",
       "      <td>1</td>\n",
       "      <td>0</td>\n",
       "      <td>0</td>\n",
       "      <td>0</td>\n",
       "      <td>0</td>\n",
       "      <td>0</td>\n",
       "      <td>1</td>\n",
       "    </tr>\n",
       "    <tr>\n",
       "      <th>0004_01</th>\n",
       "      <td>1</td>\n",
       "      <td>0</td>\n",
       "      <td>0</td>\n",
       "      <td>0</td>\n",
       "      <td>0</td>\n",
       "      <td>0</td>\n",
       "      <td>0</td>\n",
       "      <td>1</td>\n",
       "    </tr>\n",
       "    <tr>\n",
       "      <th>...</th>\n",
       "      <td>...</td>\n",
       "      <td>...</td>\n",
       "      <td>...</td>\n",
       "      <td>...</td>\n",
       "      <td>...</td>\n",
       "      <td>...</td>\n",
       "      <td>...</td>\n",
       "      <td>...</td>\n",
       "    </tr>\n",
       "    <tr>\n",
       "      <th>9276_01</th>\n",
       "      <td>0</td>\n",
       "      <td>1</td>\n",
       "      <td>0</td>\n",
       "      <td>0</td>\n",
       "      <td>1</td>\n",
       "      <td>0</td>\n",
       "      <td>0</td>\n",
       "      <td>0</td>\n",
       "    </tr>\n",
       "    <tr>\n",
       "      <th>9278_01</th>\n",
       "      <td>1</td>\n",
       "      <td>0</td>\n",
       "      <td>0</td>\n",
       "      <td>0</td>\n",
       "      <td>0</td>\n",
       "      <td>1</td>\n",
       "      <td>0</td>\n",
       "      <td>0</td>\n",
       "    </tr>\n",
       "    <tr>\n",
       "      <th>9279_01</th>\n",
       "      <td>1</td>\n",
       "      <td>0</td>\n",
       "      <td>0</td>\n",
       "      <td>0</td>\n",
       "      <td>0</td>\n",
       "      <td>0</td>\n",
       "      <td>0</td>\n",
       "      <td>1</td>\n",
       "    </tr>\n",
       "    <tr>\n",
       "      <th>9280_01</th>\n",
       "      <td>0</td>\n",
       "      <td>1</td>\n",
       "      <td>0</td>\n",
       "      <td>0</td>\n",
       "      <td>1</td>\n",
       "      <td>0</td>\n",
       "      <td>0</td>\n",
       "      <td>0</td>\n",
       "    </tr>\n",
       "    <tr>\n",
       "      <th>9280_02</th>\n",
       "      <td>0</td>\n",
       "      <td>1</td>\n",
       "      <td>0</td>\n",
       "      <td>0</td>\n",
       "      <td>0</td>\n",
       "      <td>0</td>\n",
       "      <td>0</td>\n",
       "      <td>1</td>\n",
       "    </tr>\n",
       "  </tbody>\n",
       "</table>\n",
       "<p>8693 rows × 8 columns</p>\n",
       "</div>"
      ],
      "text/plain": [
       "             HomePlanet_Earth  HomePlanet_Europa  HomePlanet_Gallifrey  \\\n",
       "PassengerId                                                              \n",
       "0001_01                     0                  1                     0   \n",
       "0002_01                     1                  0                     0   \n",
       "0003_01                     0                  1                     0   \n",
       "0003_02                     0                  1                     0   \n",
       "0004_01                     1                  0                     0   \n",
       "...                       ...                ...                   ...   \n",
       "9276_01                     0                  1                     0   \n",
       "9278_01                     1                  0                     0   \n",
       "9279_01                     1                  0                     0   \n",
       "9280_01                     0                  1                     0   \n",
       "9280_02                     0                  1                     0   \n",
       "\n",
       "             HomePlanet_Mars  Destination_55 Cancri e  \\\n",
       "PassengerId                                             \n",
       "0001_01                    0                        0   \n",
       "0002_01                    0                        0   \n",
       "0003_01                    0                        0   \n",
       "0003_02                    0                        0   \n",
       "0004_01                    0                        0   \n",
       "...                      ...                      ...   \n",
       "9276_01                    0                        1   \n",
       "9278_01                    0                        0   \n",
       "9279_01                    0                        0   \n",
       "9280_01                    0                        1   \n",
       "9280_02                    0                        0   \n",
       "\n",
       "             Destination_PSO J318.5-22  Destination_Skaro  \\\n",
       "PassengerId                                                 \n",
       "0001_01                              0                  0   \n",
       "0002_01                              0                  0   \n",
       "0003_01                              0                  0   \n",
       "0003_02                              0                  0   \n",
       "0004_01                              0                  0   \n",
       "...                                ...                ...   \n",
       "9276_01                              0                  0   \n",
       "9278_01                              1                  0   \n",
       "9279_01                              0                  0   \n",
       "9280_01                              0                  0   \n",
       "9280_02                              0                  0   \n",
       "\n",
       "             Destination_TRAPPIST-1e  \n",
       "PassengerId                           \n",
       "0001_01                            1  \n",
       "0002_01                            1  \n",
       "0003_01                            1  \n",
       "0003_02                            1  \n",
       "0004_01                            1  \n",
       "...                              ...  \n",
       "9276_01                            0  \n",
       "9278_01                            0  \n",
       "9279_01                            1  \n",
       "9280_01                            0  \n",
       "9280_02                            1  \n",
       "\n",
       "[8693 rows x 8 columns]"
      ]
     },
     "execution_count": 20,
     "metadata": {},
     "output_type": "execute_result"
    }
   ],
   "source": [
    "dummies"
   ]
  },
  {
   "cell_type": "code",
   "execution_count": 21,
   "id": "0185f7c0",
   "metadata": {},
   "outputs": [],
   "source": [
    "df = pd.concat([df, dummies], axis=1)\n",
    "df.drop(columns=['HomePlanet', 'Destination'], inplace=True)"
   ]
  },
  {
   "cell_type": "code",
   "execution_count": 22,
   "id": "54ff9505",
   "metadata": {},
   "outputs": [],
   "source": [
    "df[TARGET] = df[TARGET].astype(int)"
   ]
  },
  {
   "cell_type": "code",
   "execution_count": 23,
   "id": "bea8d04e",
   "metadata": {},
   "outputs": [],
   "source": [
    "# For now, dropping textual features\n",
    "\n",
    "df.drop([\"Name\" ,\"Cabin\"] , axis=1 ,inplace = True)"
   ]
  },
  {
   "cell_type": "code",
   "execution_count": 24,
   "id": "86ab8d62",
   "metadata": {},
   "outputs": [],
   "source": [
    "# Train/test split\n",
    "\n",
    "X = df.drop(TARGET , axis =1 )\n",
    "y = df[TARGET]\n",
    "\n",
    "X_train , X_test , y_train , y_test = train_test_split(X, y, random_state = 42, test_size =0.33, stratify=y)\n",
    "# use stratify=y to ensure that the distribution of the target variable will be preserved in train/test datasets"
   ]
  },
  {
   "cell_type": "code",
   "execution_count": 26,
   "id": "316ddeca",
   "metadata": {},
   "outputs": [
    {
     "name": "stdout",
     "output_type": "stream",
     "text": [
      "X train size (23, 5824)\n",
      "X test size (23, 2869)\n",
      "y train size (1, 5824)\n",
      "y test size (1, 2869)\n"
     ]
    }
   ],
   "source": [
    "# For further computation purpuses, let's transpose input data\n",
    "\n",
    "x_train = X_train.T\n",
    "x_test = X_test.T\n",
    "y_train = np.expand_dims(y_train.T, 0)\n",
    "y_test = np.expand_dims(y_test.T, 0)\n",
    "\n",
    "print('X train size', x_train.shape)\n",
    "print('X test size', x_test.shape)\n",
    "print('y train size', y_train.shape)\n",
    "print('y test size', y_test.shape)"
   ]
  },
  {
   "cell_type": "markdown",
   "id": "139b28ae",
   "metadata": {},
   "source": [
    "## Initializing parameters"
   ]
  },
  {
   "cell_type": "code",
   "execution_count": 27,
   "id": "ef7073e1",
   "metadata": {},
   "outputs": [],
   "source": [
    "# A function to initialize parameters\n",
    "\n",
    "def initialize_weights_and_bias(dimension):\n",
    "    # dimension - number of input features\n",
    "    w = np.full((dimension,1),0.01)\n",
    "    b = 0.0\n",
    "    return w, b"
   ]
  },
  {
   "cell_type": "markdown",
   "id": "ef945626",
   "metadata": {},
   "source": [
    "## Forward Propagation"
   ]
  },
  {
   "cell_type": "code",
   "execution_count": 28,
   "id": "07f0c8cd",
   "metadata": {},
   "outputs": [],
   "source": [
    "def sigmoid(z):\n",
    "    y_head = 1/(1+np.exp(-z))\n",
    "    return y_head"
   ]
  },
  {
   "cell_type": "code",
   "execution_count": 29,
   "id": "bca398db",
   "metadata": {},
   "outputs": [],
   "source": [
    "def forward_propagation(w,b,x_train,y_train):\n",
    "    z = np.dot(w.T,x_train) + b\n",
    "    y_head = sigmoid(z) # probabilistic 0-1\n",
    "    loss = -1*y_train*np.log(y_head)-(1-y_train)*np.log(1-y_head)\n",
    "    cost = (np.sum(loss))/x_train.shape[1]      # x_train.shape[1]  is for scaling\n",
    "    return cost "
   ]
  },
  {
   "cell_type": "markdown",
   "id": "3408a6d6",
   "metadata": {},
   "source": [
    "## Gradient Descent"
   ]
  },
  {
   "cell_type": "code",
   "execution_count": 30,
   "id": "654d4ff5",
   "metadata": {},
   "outputs": [],
   "source": [
    "# In backward propagation we will use y_head that found in forward progation\n",
    "# Therefore instead of writing backward propagation method, lets combine forward propagation and backward propagation\n",
    "\n",
    "def forward_backward_propagation(w,b,x_train,y_train, eps=1e-5):\n",
    "    \n",
    "    # forward propagation\n",
    "    \n",
    "    z = np.dot(w.T,x_train) + b\n",
    "    y_head = sigmoid(z)\n",
    "    loss = -1*y_train*np.log(y_head+eps)-(1-y_train)*np.log(1-y_head+eps)\n",
    "    cost = (np.sum(loss))/x_train.shape[1]      # x_train.shape[1]  is for scaling\n",
    "    \n",
    "    # backward propagation\n",
    "    \n",
    "    derivative_weight = (np.dot(x_train,((y_head-y_train).T)))/x_train.shape[1] # x_train.shape[1]  is for scaling\n",
    "    derivative_bias = np.sum(y_head-y_train)/x_train.shape[1]                 # x_train.shape[1]  is for scaling\n",
    "    gradients = {\"derivative_weight\": derivative_weight,\"derivative_bias\": derivative_bias}\n",
    "    \n",
    "    return cost,gradients"
   ]
  },
  {
   "cell_type": "code",
   "execution_count": 31,
   "id": "8a63b7d2",
   "metadata": {},
   "outputs": [],
   "source": [
    "# Updating(learning) parameters\n",
    "\n",
    "def update(w, b, x_train, y_train, learning_rate,number_of_iterarion):\n",
    "    cost_list = []\n",
    "    index = []\n",
    "    \n",
    "    # updating(learning) parameters is number_of_iterarion times\n",
    "    \n",
    "    for i in range(number_of_iterarion):\n",
    "        \n",
    "        # make forward and backward propagation and find cost and gradients\n",
    "        \n",
    "        cost,gradients = forward_backward_propagation(w,b,x_train,y_train)\n",
    "        cost_list.append(cost)\n",
    "        \n",
    "        # lets update\n",
    "        \n",
    "        w = w - learning_rate * gradients[\"derivative_weight\"]\n",
    "        b = b - learning_rate * gradients[\"derivative_bias\"]\n",
    "        index.append(i)\n",
    "        \n",
    "    # we update(learn) parameters weights and bias\n",
    "    \n",
    "    parameters = {\"weight\": w,\"bias\": b}\n",
    "    plt.plot(index,cost_list)\n",
    "    plt.xticks(index,rotation='vertical')\n",
    "    plt.xlabel(\"Number of Iterarion\")\n",
    "    plt.ylabel(\"Cost\")\n",
    "    plt.show()\n",
    "    \n",
    "    return parameters, gradients, cost_list"
   ]
  },
  {
   "cell_type": "code",
   "execution_count": 32,
   "id": "03ba0bd8",
   "metadata": {},
   "outputs": [],
   "source": [
    "def predict(w,b,x_test):\n",
    "    \n",
    "    # x_test is a input for forward propagation\n",
    "    \n",
    "    z = sigmoid(np.dot(w.T,x_test)+b)\n",
    "    Y_prediction = np.zeros((1,x_test.shape[1]))\n",
    "    \n",
    "    # if z is bigger than 0.5, our prediction is sign one (y_head=1),\n",
    "    # if z is smaller than 0.5, our prediction is sign zero (y_head=0)\n",
    "    \n",
    "    for i in range(z.shape[1]):\n",
    "        if z[0,i]<= 0.5:\n",
    "            Y_prediction[0,i] = 0\n",
    "        else:\n",
    "            Y_prediction[0,i] = 1\n",
    "\n",
    "    return Y_prediction"
   ]
  },
  {
   "cell_type": "markdown",
   "id": "6d0abd40",
   "metadata": {},
   "source": [
    "Lets put them all together"
   ]
  },
  {
   "cell_type": "code",
   "execution_count": 33,
   "id": "7e33695c",
   "metadata": {},
   "outputs": [],
   "source": [
    "def logistic_regression(x_train, y_train, x_test, y_test, learning_rate ,  num_iterations):\n",
    "    \n",
    "    # initialize\n",
    "    \n",
    "    dimension =  x_train.shape[0]  # that is 4096\n",
    "    w,b = initialize_weights_and_bias(dimension)\n",
    "    \n",
    "    # do not change learning rate\n",
    "    parameters, gradients, cost_list = update(w, b, x_train, y_train, learning_rate,num_iterations)\n",
    "    \n",
    "    y_prediction_test = predict(parameters[\"weight\"],parameters[\"bias\"],x_test)\n",
    "    y_prediction_train = predict(parameters[\"weight\"],parameters[\"bias\"],x_train)\n",
    "\n",
    "    # Print train/test Errors\n",
    "    print(\"train accuracy: {} %\".format(100 - np.mean(np.abs(y_prediction_train - y_train)) * 100))\n",
    "    print(\"test accuracy: {} %\".format(100 - np.mean(np.abs(y_prediction_test - y_test)) * 100))"
   ]
  },
  {
   "cell_type": "code",
   "execution_count": 34,
   "id": "dec9dbf4",
   "metadata": {},
   "outputs": [
    {
     "data": {
      "image/png": "[encoded data removed]",
      "text/plain": [
       "<Figure size 640x480 with 1 Axes>"
      ]
     },
     "metadata": {},
     "output_type": "display_data"
    },
    {
     "name": "stdout",
     "output_type": "stream",
     "text": [
      "train accuracy: 77.93612637362638 %\n",
      "test accuracy: 79.36563262460788 %\n"
     ]
    }
   ],
   "source": [
    "logistic_regression(x_train, y_train, x_test, y_test,learning_rate = 0.00001, num_iterations = 50) "
   ]
  }
 ],
 "metadata": {
  "kernelspec": {
   "display_name": "Python 3 (ipykernel)",
   "language": "python",
   "name": "python3"
  },
  "language_info": {
   "codemirror_mode": {
    "name": "ipython",
    "version": 3
   },
   "file_extension": ".py",
   "mimetype": "text/x-python",
   "name": "python",
   "nbconvert_exporter": "python",
   "pygments_lexer": "ipython3",
   "version": "3.11.7"
  },
  "toc": {
   "base_numbering": 1,
   "nav_menu": {},
   "number_sections": true,
   "sideBar": true,
   "skip_h1_title": false,
   "title_cell": "Table of Contents",
   "title_sidebar": "Contents",
   "toc_cell": false,
   "toc_position": {},
   "toc_section_display": true,
   "toc_window_display": false
  }
 },
 "nbformat": 4,
 "nbformat_minor": 5
}
