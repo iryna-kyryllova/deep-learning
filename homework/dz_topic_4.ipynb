{
  "nbformat": 4,
  "nbformat_minor": 0,
  "metadata": {
    "colab": {
      "provenance": []
    },
    "kernelspec": {
      "name": "python3",
      "display_name": "Python 3"
    },
    "language_info": {
      "name": "python"
    }
  },
  "cells": [
    {
      "cell_type": "markdown",
      "source": [
        "# Домашнє завдання до модуля «Основи PyTorch»"
      ],
      "metadata": {
        "id": "qEoA1UAV60bx"
      }
    },
    {
      "cell_type": "code",
      "execution_count": 1,
      "metadata": {
        "id": "4K7f4_Oo6uuI",
        "colab": {
          "base_uri": "https://localhost:8080/"
        },
        "outputId": "9b12f93e-2bcf-489b-ceab-641e3c38f263"
      },
      "outputs": [
        {
          "output_type": "stream",
          "name": "stdout",
          "text": [
            "Drive already mounted at /content/drive; to attempt to forcibly remount, call drive.mount(\"/content/drive\", force_remount=True).\n"
          ]
        }
      ],
      "source": [
        "import pandas as pd\n",
        "import numpy as np\n",
        "from sklearn.model_selection import train_test_split\n",
        "from sklearn.preprocessing import StandardScaler\n",
        "from sklearn.metrics import mean_squared_error, r2_score, mean_absolute_error, root_mean_squared_error as RMSE\n",
        "\n",
        "import torch\n",
        "import torch.nn as nn\n",
        "from torch.utils.data import Dataset, DataLoader\n",
        "import torch.optim as optim\n",
        "\n",
        "import matplotlib.pyplot as plt\n",
        "import seaborn as sns\n",
        "\n",
        "from google.colab import drive\n",
        "drive.mount('/content/drive')"
      ]
    },
    {
      "cell_type": "markdown",
      "source": [
        "## Підготовка даних"
      ],
      "metadata": {
        "id": "wEP7JRrl8fqU"
      }
    },
    {
      "cell_type": "code",
      "source": [
        "# Завантаження даних\n",
        "data = pd.read_csv('/content/drive/MyDrive/ConcreteStrengthData.csv')\n",
        "data.head()"
      ],
      "metadata": {
        "colab": {
          "base_uri": "https://localhost:8080/",
          "height": 206
        },
        "id": "h8eY7GnZ8rqg",
        "outputId": "1e29c859-d326-4412-bd49-beb9ecf73657"
      },
      "execution_count": 2,
      "outputs": [
        {
          "output_type": "execute_result",
          "data": {
            "text/plain": [
              "   CementComponent   BlastFurnaceSlag  FlyAshComponent  WaterComponent  \\\n",
              "0             540.0               0.0              0.0           162.0   \n",
              "1             540.0               0.0              0.0           162.0   \n",
              "2             332.5             142.5              0.0           228.0   \n",
              "3             332.5             142.5              0.0           228.0   \n",
              "4             198.6             132.4              0.0           192.0   \n",
              "\n",
              "   SuperplasticizerComponent  CoarseAggregateComponent  \\\n",
              "0                        2.5                    1040.0   \n",
              "1                        2.5                    1055.0   \n",
              "2                        0.0                     932.0   \n",
              "3                        0.0                     932.0   \n",
              "4                        0.0                     978.4   \n",
              "\n",
              "   FineAggregateComponent  AgeInDays  Strength  \n",
              "0                   676.0         28     79.99  \n",
              "1                   676.0         28     61.89  \n",
              "2                   594.0        270     40.27  \n",
              "3                   594.0        365     41.05  \n",
              "4                   825.5        360     44.30  "
            ],
            "text/html": [
              "\n",
              "  <div id=\"df-49343c68-ab23-44f1-a0bc-4fce2e25a584\" class=\"colab-df-container\">\n",
              "    <div>\n",
              "<style scoped>\n",
              "    .dataframe tbody tr th:only-of-type {\n",
              "        vertical-align: middle;\n",
              "    }\n",
              "\n",
              "    .dataframe tbody tr th {\n",
              "        vertical-align: top;\n",
              "    }\n",
              "\n",
              "    .dataframe thead th {\n",
              "        text-align: right;\n",
              "    }\n",
              "</style>\n",
              "<table border=\"1\" class=\"dataframe\">\n",
              "  <thead>\n",
              "    <tr style=\"text-align: right;\">\n",
              "      <th></th>\n",
              "      <th>CementComponent</th>\n",
              "      <th>BlastFurnaceSlag</th>\n",
              "      <th>FlyAshComponent</th>\n",
              "      <th>WaterComponent</th>\n",
              "      <th>SuperplasticizerComponent</th>\n",
              "      <th>CoarseAggregateComponent</th>\n",
              "      <th>FineAggregateComponent</th>\n",
              "      <th>AgeInDays</th>\n",
              "      <th>Strength</th>\n",
              "    </tr>\n",
              "  </thead>\n",
              "  <tbody>\n",
              "    <tr>\n",
              "      <th>0</th>\n",
              "      <td>540.0</td>\n",
              "      <td>0.0</td>\n",
              "      <td>0.0</td>\n",
              "      <td>162.0</td>\n",
              "      <td>2.5</td>\n",
              "      <td>1040.0</td>\n",
              "      <td>676.0</td>\n",
              "      <td>28</td>\n",
              "      <td>79.99</td>\n",
              "    </tr>\n",
              "    <tr>\n",
              "      <th>1</th>\n",
              "      <td>540.0</td>\n",
              "      <td>0.0</td>\n",
              "      <td>0.0</td>\n",
              "      <td>162.0</td>\n",
              "      <td>2.5</td>\n",
              "      <td>1055.0</td>\n",
              "      <td>676.0</td>\n",
              "      <td>28</td>\n",
              "      <td>61.89</td>\n",
              "    </tr>\n",
              "    <tr>\n",
              "      <th>2</th>\n",
              "      <td>332.5</td>\n",
              "      <td>142.5</td>\n",
              "      <td>0.0</td>\n",
              "      <td>228.0</td>\n",
              "      <td>0.0</td>\n",
              "      <td>932.0</td>\n",
              "      <td>594.0</td>\n",
              "      <td>270</td>\n",
              "      <td>40.27</td>\n",
              "    </tr>\n",
              "    <tr>\n",
              "      <th>3</th>\n",
              "      <td>332.5</td>\n",
              "      <td>142.5</td>\n",
              "      <td>0.0</td>\n",
              "      <td>228.0</td>\n",
              "      <td>0.0</td>\n",
              "      <td>932.0</td>\n",
              "      <td>594.0</td>\n",
              "      <td>365</td>\n",
              "      <td>41.05</td>\n",
              "    </tr>\n",
              "    <tr>\n",
              "      <th>4</th>\n",
              "      <td>198.6</td>\n",
              "      <td>132.4</td>\n",
              "      <td>0.0</td>\n",
              "      <td>192.0</td>\n",
              "      <td>0.0</td>\n",
              "      <td>978.4</td>\n",
              "      <td>825.5</td>\n",
              "      <td>360</td>\n",
              "      <td>44.30</td>\n",
              "    </tr>\n",
              "  </tbody>\n",
              "</table>\n",
              "</div>\n",
              "    <div class=\"colab-df-buttons\">\n",
              "\n",
              "  <div class=\"colab-df-container\">\n",
              "    <button class=\"colab-df-convert\" onclick=\"convertToInteractive('df-49343c68-ab23-44f1-a0bc-4fce2e25a584')\"\n",
              "            title=\"Convert this dataframe to an interactive table.\"\n",
              "            style=\"display:none;\">\n",
              "\n",
              "  <svg xmlns=\"http://www.w3.org/2000/svg\" height=\"24px\" viewBox=\"0 -960 960 960\">\n",
              "    <path d=\"M120-120v-720h720v720H120Zm60-500h600v-160H180v160Zm220 220h160v-160H400v160Zm0 220h160v-160H400v160ZM180-400h160v-160H180v160Zm440 0h160v-160H620v160ZM180-180h160v-160H180v160Zm440 0h160v-160H620v160Z\"/>\n",
              "  </svg>\n",
              "    </button>\n",
              "\n",
              "  <style>\n",
              "    .colab-df-container {\n",
              "      display:flex;\n",
              "      gap: 12px;\n",
              "    }\n",
              "\n",
              "    .colab-df-convert {\n",
              "      background-color: #E8F0FE;\n",
              "      border: none;\n",
              "      border-radius: 50%;\n",
              "      cursor: pointer;\n",
              "      display: none;\n",
              "      fill: #1967D2;\n",
              "      height: 32px;\n",
              "      padding: 0 0 0 0;\n",
              "      width: 32px;\n",
              "    }\n",
              "\n",
              "    .colab-df-convert:hover {\n",
              "      background-color: #E2EBFA;\n",
              "      box-shadow: 0px 1px 2px rgba(60, 64, 67, 0.3), 0px 1px 3px 1px rgba(60, 64, 67, 0.15);\n",
              "      fill: #174EA6;\n",
              "    }\n",
              "\n",
              "    .colab-df-buttons div {\n",
              "      margin-bottom: 4px;\n",
              "    }\n",
              "\n",
              "    [theme=dark] .colab-df-convert {\n",
              "      background-color: #3B4455;\n",
              "      fill: #D2E3FC;\n",
              "    }\n",
              "\n",
              "    [theme=dark] .colab-df-convert:hover {\n",
              "      background-color: #434B5C;\n",
              "      box-shadow: 0px 1px 3px 1px rgba(0, 0, 0, 0.15);\n",
              "      filter: drop-shadow(0px 1px 2px rgba(0, 0, 0, 0.3));\n",
              "      fill: #FFFFFF;\n",
              "    }\n",
              "  </style>\n",
              "\n",
              "    <script>\n",
              "      const buttonEl =\n",
              "        document.querySelector('#df-49343c68-ab23-44f1-a0bc-4fce2e25a584 button.colab-df-convert');\n",
              "      buttonEl.style.display =\n",
              "        google.colab.kernel.accessAllowed ? 'block' : 'none';\n",
              "\n",
              "      async function convertToInteractive(key) {\n",
              "        const element = document.querySelector('#df-49343c68-ab23-44f1-a0bc-4fce2e25a584');\n",
              "        const dataTable =\n",
              "          await google.colab.kernel.invokeFunction('convertToInteractive',\n",
              "                                                    [key], {});\n",
              "        if (!dataTable) return;\n",
              "\n",
              "        const docLinkHtml = 'Like what you see? Visit the ' +\n",
              "          '<a target=\"_blank\" href=https://colab.research.google.com/notebooks/data_table.ipynb>data table notebook</a>'\n",
              "          + ' to learn more about interactive tables.';\n",
              "        element.innerHTML = '';\n",
              "        dataTable['output_type'] = 'display_data';\n",
              "        await google.colab.output.renderOutput(dataTable, element);\n",
              "        const docLink = document.createElement('div');\n",
              "        docLink.innerHTML = docLinkHtml;\n",
              "        element.appendChild(docLink);\n",
              "      }\n",
              "    </script>\n",
              "  </div>\n",
              "\n",
              "\n",
              "<div id=\"df-0ba9c4f5-355b-461b-800d-5c0064ca481c\">\n",
              "  <button class=\"colab-df-quickchart\" onclick=\"quickchart('df-0ba9c4f5-355b-461b-800d-5c0064ca481c')\"\n",
              "            title=\"Suggest charts\"\n",
              "            style=\"display:none;\">\n",
              "\n",
              "<svg xmlns=\"http://www.w3.org/2000/svg\" height=\"24px\"viewBox=\"0 0 24 24\"\n",
              "     width=\"24px\">\n",
              "    <g>\n",
              "        <path d=\"M19 3H5c-1.1 0-2 .9-2 2v14c0 1.1.9 2 2 2h14c1.1 0 2-.9 2-2V5c0-1.1-.9-2-2-2zM9 17H7v-7h2v7zm4 0h-2V7h2v10zm4 0h-2v-4h2v4z\"/>\n",
              "    </g>\n",
              "</svg>\n",
              "  </button>\n",
              "\n",
              "<style>\n",
              "  .colab-df-quickchart {\n",
              "      --bg-color: #E8F0FE;\n",
              "      --fill-color: #1967D2;\n",
              "      --hover-bg-color: #E2EBFA;\n",
              "      --hover-fill-color: #174EA6;\n",
              "      --disabled-fill-color: #AAA;\n",
              "      --disabled-bg-color: #DDD;\n",
              "  }\n",
              "\n",
              "  [theme=dark] .colab-df-quickchart {\n",
              "      --bg-color: #3B4455;\n",
              "      --fill-color: #D2E3FC;\n",
              "      --hover-bg-color: #434B5C;\n",
              "      --hover-fill-color: #FFFFFF;\n",
              "      --disabled-bg-color: #3B4455;\n",
              "      --disabled-fill-color: #666;\n",
              "  }\n",
              "\n",
              "  .colab-df-quickchart {\n",
              "    background-color: var(--bg-color);\n",
              "    border: none;\n",
              "    border-radius: 50%;\n",
              "    cursor: pointer;\n",
              "    display: none;\n",
              "    fill: var(--fill-color);\n",
              "    height: 32px;\n",
              "    padding: 0;\n",
              "    width: 32px;\n",
              "  }\n",
              "\n",
              "  .colab-df-quickchart:hover {\n",
              "    background-color: var(--hover-bg-color);\n",
              "    box-shadow: 0 1px 2px rgba(60, 64, 67, 0.3), 0 1px 3px 1px rgba(60, 64, 67, 0.15);\n",
              "    fill: var(--button-hover-fill-color);\n",
              "  }\n",
              "\n",
              "  .colab-df-quickchart-complete:disabled,\n",
              "  .colab-df-quickchart-complete:disabled:hover {\n",
              "    background-color: var(--disabled-bg-color);\n",
              "    fill: var(--disabled-fill-color);\n",
              "    box-shadow: none;\n",
              "  }\n",
              "\n",
              "  .colab-df-spinner {\n",
              "    border: 2px solid var(--fill-color);\n",
              "    border-color: transparent;\n",
              "    border-bottom-color: var(--fill-color);\n",
              "    animation:\n",
              "      spin 1s steps(1) infinite;\n",
              "  }\n",
              "\n",
              "  @keyframes spin {\n",
              "    0% {\n",
              "      border-color: transparent;\n",
              "      border-bottom-color: var(--fill-color);\n",
              "      border-left-color: var(--fill-color);\n",
              "    }\n",
              "    20% {\n",
              "      border-color: transparent;\n",
              "      border-left-color: var(--fill-color);\n",
              "      border-top-color: var(--fill-color);\n",
              "    }\n",
              "    30% {\n",
              "      border-color: transparent;\n",
              "      border-left-color: var(--fill-color);\n",
              "      border-top-color: var(--fill-color);\n",
              "      border-right-color: var(--fill-color);\n",
              "    }\n",
              "    40% {\n",
              "      border-color: transparent;\n",
              "      border-right-color: var(--fill-color);\n",
              "      border-top-color: var(--fill-color);\n",
              "    }\n",
              "    60% {\n",
              "      border-color: transparent;\n",
              "      border-right-color: var(--fill-color);\n",
              "    }\n",
              "    80% {\n",
              "      border-color: transparent;\n",
              "      border-right-color: var(--fill-color);\n",
              "      border-bottom-color: var(--fill-color);\n",
              "    }\n",
              "    90% {\n",
              "      border-color: transparent;\n",
              "      border-bottom-color: var(--fill-color);\n",
              "    }\n",
              "  }\n",
              "</style>\n",
              "\n",
              "  <script>\n",
              "    async function quickchart(key) {\n",
              "      const quickchartButtonEl =\n",
              "        document.querySelector('#' + key + ' button');\n",
              "      quickchartButtonEl.disabled = true;  // To prevent multiple clicks.\n",
              "      quickchartButtonEl.classList.add('colab-df-spinner');\n",
              "      try {\n",
              "        const charts = await google.colab.kernel.invokeFunction(\n",
              "            'suggestCharts', [key], {});\n",
              "      } catch (error) {\n",
              "        console.error('Error during call to suggestCharts:', error);\n",
              "      }\n",
              "      quickchartButtonEl.classList.remove('colab-df-spinner');\n",
              "      quickchartButtonEl.classList.add('colab-df-quickchart-complete');\n",
              "    }\n",
              "    (() => {\n",
              "      let quickchartButtonEl =\n",
              "        document.querySelector('#df-0ba9c4f5-355b-461b-800d-5c0064ca481c button');\n",
              "      quickchartButtonEl.style.display =\n",
              "        google.colab.kernel.accessAllowed ? 'block' : 'none';\n",
              "    })();\n",
              "  </script>\n",
              "</div>\n",
              "\n",
              "    </div>\n",
              "  </div>\n"
            ],
            "application/vnd.google.colaboratory.intrinsic+json": {
              "type": "dataframe",
              "variable_name": "data",
              "summary": "{\n  \"name\": \"data\",\n  \"rows\": 1030,\n  \"fields\": [\n    {\n      \"column\": \"CementComponent \",\n      \"properties\": {\n        \"dtype\": \"number\",\n        \"std\": 104.50636449481532,\n        \"min\": 102.0,\n        \"max\": 540.0,\n        \"num_unique_values\": 278,\n        \"samples\": [\n          337.9,\n          290.2,\n          262.0\n        ],\n        \"semantic_type\": \"\",\n        \"description\": \"\"\n      }\n    },\n    {\n      \"column\": \"BlastFurnaceSlag\",\n      \"properties\": {\n        \"dtype\": \"number\",\n        \"std\": 86.27934174810584,\n        \"min\": 0.0,\n        \"max\": 359.4,\n        \"num_unique_values\": 185,\n        \"samples\": [\n          94.7,\n          119.0,\n          136.3\n        ],\n        \"semantic_type\": \"\",\n        \"description\": \"\"\n      }\n    },\n    {\n      \"column\": \"FlyAshComponent\",\n      \"properties\": {\n        \"dtype\": \"number\",\n        \"std\": 63.99700415268765,\n        \"min\": 0.0,\n        \"max\": 200.1,\n        \"num_unique_values\": 156,\n        \"samples\": [\n          98.0,\n          142.0,\n          195.0\n        ],\n        \"semantic_type\": \"\",\n        \"description\": \"\"\n      }\n    },\n    {\n      \"column\": \"WaterComponent\",\n      \"properties\": {\n        \"dtype\": \"number\",\n        \"std\": 21.35421856503247,\n        \"min\": 121.8,\n        \"max\": 247.0,\n        \"num_unique_values\": 195,\n        \"samples\": [\n          195.4,\n          183.8,\n          127.3\n        ],\n        \"semantic_type\": \"\",\n        \"description\": \"\"\n      }\n    },\n    {\n      \"column\": \"SuperplasticizerComponent\",\n      \"properties\": {\n        \"dtype\": \"number\",\n        \"std\": 5.97384139248552,\n        \"min\": 0.0,\n        \"max\": 32.2,\n        \"num_unique_values\": 111,\n        \"samples\": [\n          15.0,\n          28.2,\n          16.5\n        ],\n        \"semantic_type\": \"\",\n        \"description\": \"\"\n      }\n    },\n    {\n      \"column\": \"CoarseAggregateComponent\",\n      \"properties\": {\n        \"dtype\": \"number\",\n        \"std\": 77.75395396672077,\n        \"min\": 801.0,\n        \"max\": 1145.0,\n        \"num_unique_values\": 284,\n        \"samples\": [\n          852.1,\n          913.9,\n          914.0\n        ],\n        \"semantic_type\": \"\",\n        \"description\": \"\"\n      }\n    },\n    {\n      \"column\": \"FineAggregateComponent\",\n      \"properties\": {\n        \"dtype\": \"number\",\n        \"std\": 80.17598014240437,\n        \"min\": 594.0,\n        \"max\": 992.6,\n        \"num_unique_values\": 302,\n        \"samples\": [\n          710.0,\n          695.4,\n          769.3\n        ],\n        \"semantic_type\": \"\",\n        \"description\": \"\"\n      }\n    },\n    {\n      \"column\": \"AgeInDays\",\n      \"properties\": {\n        \"dtype\": \"number\",\n        \"std\": 63,\n        \"min\": 1,\n        \"max\": 365,\n        \"num_unique_values\": 14,\n        \"samples\": [\n          91,\n          100,\n          28\n        ],\n        \"semantic_type\": \"\",\n        \"description\": \"\"\n      }\n    },\n    {\n      \"column\": \"Strength\",\n      \"properties\": {\n        \"dtype\": \"number\",\n        \"std\": 16.705741961912512,\n        \"min\": 2.33,\n        \"max\": 82.6,\n        \"num_unique_values\": 845,\n        \"samples\": [\n          41.68,\n          39.59,\n          2.33\n        ],\n        \"semantic_type\": \"\",\n        \"description\": \"\"\n      }\n    }\n  ]\n}"
            }
          },
          "metadata": {},
          "execution_count": 2
        }
      ]
    },
    {
      "cell_type": "code",
      "source": [
        "data.info()"
      ],
      "metadata": {
        "colab": {
          "base_uri": "https://localhost:8080/"
        },
        "id": "6IaPnIwVE5M-",
        "outputId": "5170db14-7d37-4457-b33e-7e4cf8b3ca05"
      },
      "execution_count": 3,
      "outputs": [
        {
          "output_type": "stream",
          "name": "stdout",
          "text": [
            "<class 'pandas.core.frame.DataFrame'>\n",
            "RangeIndex: 1030 entries, 0 to 1029\n",
            "Data columns (total 9 columns):\n",
            " #   Column                     Non-Null Count  Dtype  \n",
            "---  ------                     --------------  -----  \n",
            " 0   CementComponent            1030 non-null   float64\n",
            " 1   BlastFurnaceSlag           1030 non-null   float64\n",
            " 2   FlyAshComponent            1030 non-null   float64\n",
            " 3   WaterComponent             1030 non-null   float64\n",
            " 4   SuperplasticizerComponent  1030 non-null   float64\n",
            " 5   CoarseAggregateComponent   1030 non-null   float64\n",
            " 6   FineAggregateComponent     1030 non-null   float64\n",
            " 7   AgeInDays                  1030 non-null   int64  \n",
            " 8   Strength                   1030 non-null   float64\n",
            "dtypes: float64(8), int64(1)\n",
            "memory usage: 72.5 KB\n"
          ]
        }
      ]
    },
    {
      "cell_type": "code",
      "source": [
        "# Поділ на навчальний і тестовий набори\n",
        "X = data.drop('Strength', axis=1)\n",
        "y = data['Strength']\n",
        "\n",
        "X_train, X_test, y_train, y_test = train_test_split(X, y, test_size=0.2, random_state=42)"
      ],
      "metadata": {
        "id": "DOw_rsJxGBMB"
      },
      "execution_count": 4,
      "outputs": []
    },
    {
      "cell_type": "code",
      "source": [
        "# Створюємо PyTorch Dataset\n",
        "class ConcreteDataset(Dataset):\n",
        "    def __init__(self, X, y, scale=True):\n",
        "        self.X = X.values\n",
        "        self.y = y.values\n",
        "\n",
        "        if scale:\n",
        "            scaler = StandardScaler()\n",
        "            self.X = scaler.fit_transform(self.X)\n",
        "\n",
        "    def __len__(self):\n",
        "        return len(self.y)\n",
        "\n",
        "    def __getitem__(self, idx):\n",
        "        X = torch.tensor(self.X[idx], dtype=torch.float32)\n",
        "        y = torch.tensor(self.y[idx], dtype=torch.float32)\n",
        "\n",
        "        return X, y\n",
        "\n",
        "# Створюємо набори даних для тренування та тестування\n",
        "train_dataset = ConcreteDataset(X_train, y_train)\n",
        "test_dataset = ConcreteDataset(X_test, y_test)\n",
        "\n",
        "# DataLoader для тренувальних та тестових даних\n",
        "train_dataloader = DataLoader(train_dataset, batch_size=32, num_workers=2)\n",
        "test_dataloader = DataLoader(test_dataset, batch_size=32, num_workers=2)\n"
      ],
      "metadata": {
        "id": "h-6fE0PRGe_a"
      },
      "execution_count": 5,
      "outputs": []
    },
    {
      "cell_type": "markdown",
      "source": [
        "## Створення моделі"
      ],
      "metadata": {
        "id": "p5nGEhkmHMRt"
      }
    },
    {
      "cell_type": "code",
      "source": [
        "class ConcreteStrengthModel(nn.Module):\n",
        "    def __init__(self, in_dim, out_dim=1):\n",
        "        super().__init__()\n",
        "        self.features = nn.Sequential(\n",
        "            nn.Linear(in_dim, 256),\n",
        "            nn.ReLU(),\n",
        "\n",
        "            nn.Linear(256, 128),\n",
        "            nn.ReLU(),\n",
        "\n",
        "            nn.Linear(128, 64),\n",
        "            nn.ReLU(),\n",
        "\n",
        "            nn.Linear(64, out_dim),\n",
        "        )\n",
        "\n",
        "    def forward(self, x):\n",
        "        output = self.features(x)\n",
        "        return output\n"
      ],
      "metadata": {
        "id": "SZmUpqd9HOCZ"
      },
      "execution_count": 6,
      "outputs": []
    },
    {
      "cell_type": "markdown",
      "source": [
        "## Налаштування навчання"
      ],
      "metadata": {
        "id": "R3UN28JUf3th"
      }
    },
    {
      "cell_type": "code",
      "source": [
        "# Ініціалізуємо модель\n",
        "model = ConcreteStrengthModel(in_dim=X_train.shape[1])\n",
        "\n",
        "# Функція втрат\n",
        "criterion = nn.MSELoss()\n",
        "\n",
        "# Оптимізатор\n",
        "optimizer = optim.Adam(model.parameters(), lr=5e-4)\n",
        "\n",
        "# Гіперпараметри\n",
        "num_epochs = 200\n",
        "\n",
        "# Масиви для зберігання результатів\n",
        "train_losses = []\n",
        "train_rmses = []\n",
        "test_losses = []\n",
        "test_rmses = []\n"
      ],
      "metadata": {
        "id": "kBZIFEgXf5wX"
      },
      "execution_count": 7,
      "outputs": []
    },
    {
      "cell_type": "markdown",
      "source": [
        "## Навчання моделі"
      ],
      "metadata": {
        "id": "AXp9__-HhCfT"
      }
    },
    {
      "cell_type": "code",
      "source": [
        "for epoch in range(num_epochs):\n",
        "    model.train()\n",
        "    y_pred_train = []\n",
        "\n",
        "    for data in train_dataloader:\n",
        "        inputs, targets = data\n",
        "        inputs, targets = inputs.float(), targets.float()\n",
        "        targets = targets.reshape((targets.shape[0], 1))\n",
        "\n",
        "        outputs = model(inputs)\n",
        "        loss = criterion(outputs, targets)\n",
        "\n",
        "        optimizer.zero_grad()\n",
        "        loss.backward()\n",
        "        optimizer.step()\n",
        "\n",
        "        y_pred_train.extend(outputs.cpu().detach().numpy())\n",
        "\n",
        "    if (epoch+1) % 10 == 0:\n",
        "        print(f'Epoch [{epoch+1}/{num_epochs}], Loss: {loss.item():.4f}, RMSE: {RMSE(y_train, y_pred_train)}')\n",
        "\n",
        "    train_rmses.append(RMSE(y_train, y_pred_train))\n",
        "    train_losses.append(loss.cpu().detach().numpy())\n",
        "\n",
        "    model.eval()\n",
        "    y_pred_test = []\n",
        "\n",
        "    with torch.no_grad():\n",
        "\n",
        "        for data in test_dataloader:\n",
        "            inputs, targets = data\n",
        "            inputs, targets = inputs.float(), targets.float()\n",
        "            targets = targets.reshape((targets.shape[0], 1))\n",
        "\n",
        "            outputs = model(inputs)\n",
        "            loss = criterion(outputs, targets)\n",
        "\n",
        "            y_pred_test.extend(outputs.cpu().detach().numpy())\n",
        "\n",
        "        test_rmses.append(RMSE(y_test, y_pred_test))\n",
        "        test_losses.append(loss.cpu().detach().numpy())"
      ],
      "metadata": {
        "id": "C2AL_laKhEo7",
        "colab": {
          "base_uri": "https://localhost:8080/"
        },
        "outputId": "000fd798-6487-4339-eaad-2fdd3205139c"
      },
      "execution_count": 8,
      "outputs": [
        {
          "output_type": "stream",
          "name": "stdout",
          "text": [
            "Epoch [10/200], Loss: 219.0717, RMSE: 13.06677670156927\n",
            "Epoch [20/200], Loss: 106.2631, RMSE: 9.627214979350518\n",
            "Epoch [30/200], Loss: 71.5983, RMSE: 7.047595241011956\n",
            "Epoch [40/200], Loss: 59.5493, RMSE: 6.261707079609545\n",
            "Epoch [50/200], Loss: 50.3971, RMSE: 5.81391547558842\n",
            "Epoch [60/200], Loss: 41.3112, RMSE: 5.420225548633074\n",
            "Epoch [70/200], Loss: 33.0399, RMSE: 5.060558049775502\n",
            "Epoch [80/200], Loss: 28.0342, RMSE: 4.793012013400147\n",
            "Epoch [90/200], Loss: 24.5866, RMSE: 4.572970436167186\n",
            "Epoch [100/200], Loss: 21.7815, RMSE: 4.375985709079163\n",
            "Epoch [110/200], Loss: 19.3828, RMSE: 4.1942673796327545\n",
            "Epoch [120/200], Loss: 17.2002, RMSE: 4.019734937028409\n",
            "Epoch [130/200], Loss: 15.5091, RMSE: 3.8735733427134815\n",
            "Epoch [140/200], Loss: 14.2453, RMSE: 3.750019963217897\n",
            "Epoch [150/200], Loss: 12.7709, RMSE: 3.6403628536296946\n",
            "Epoch [160/200], Loss: 11.3834, RMSE: 3.5452967366446138\n",
            "Epoch [170/200], Loss: 10.2720, RMSE: 3.459265960043746\n",
            "Epoch [180/200], Loss: 9.4236, RMSE: 3.3841212512856966\n",
            "Epoch [190/200], Loss: 8.7753, RMSE: 3.3133795491333324\n",
            "Epoch [200/200], Loss: 8.1441, RMSE: 3.2483214412351646\n"
          ]
        }
      ]
    },
    {
      "cell_type": "markdown",
      "source": [
        "## Оцінка моделі"
      ],
      "metadata": {
        "id": "0EjFcoY1nscs"
      }
    },
    {
      "cell_type": "code",
      "source": [
        "# Прогнозування на тестовому наборі\n",
        "y_pred_test = []\n",
        "\n",
        "model.eval()\n",
        "\n",
        "with torch.no_grad():\n",
        "    for inputs, _ in test_dataloader:\n",
        "        outputs = model(inputs)\n",
        "        y_pred_test.extend(outputs.cpu().numpy())\n",
        "\n",
        "# Перетворюємо прогнози на NumPy масив для оцінки\n",
        "y_pred_test = np.array(y_pred_test)\n",
        "\n",
        "# Обчислення метрик\n",
        "mse = mean_squared_error(y_test, y_pred_test)\n",
        "mae = mean_absolute_error(y_test, y_pred_test)\n",
        "r2 = r2_score(y_test, y_pred_test)\n",
        "\n",
        "print(f'MSE: {mse:.4f}')\n",
        "print(f'MAE: {mae:.4f}')\n",
        "print(f'R²: {r2:.4f}')\n"
      ],
      "metadata": {
        "colab": {
          "base_uri": "https://localhost:8080/"
        },
        "id": "feTSL8yfnwpc",
        "outputId": "45089f66-1396-434e-927b-38b162f393dd"
      },
      "execution_count": 9,
      "outputs": [
        {
          "output_type": "stream",
          "name": "stdout",
          "text": [
            "MSE: 37.8656\n",
            "MAE: 4.5077\n",
            "R²: 0.8531\n"
          ]
        }
      ]
    },
    {
      "cell_type": "markdown",
      "source": [
        "## Аналіз результатів"
      ],
      "metadata": {
        "id": "xXtu-qmbp7uZ"
      }
    },
    {
      "cell_type": "code",
      "source": [
        "# Візуалізація тренувальних та тестових втрат\n",
        "plt.figure(figsize=(4, 3))\n",
        "plt.plot(train_losses, label='Train')\n",
        "plt.plot(test_losses, label='Test')\n",
        "plt.legend(loc='best')\n",
        "plt.xlabel('Epochs')\n",
        "plt.ylabel('MSE')\n",
        "plt.title('Training vs Test Loss (MSE)')\n",
        "plt.show()\n"
      ],
      "metadata": {
        "colab": {
          "base_uri": "https://localhost:8080/",
          "height": 333
        },
        "id": "N2Vgxjcrp9OM",
        "outputId": "96d9359f-f880-46bd-d9a9-283aaeea17bd"
      },
      "execution_count": 10,
      "outputs": [
        {
          "output_type": "display_data",
          "data": {
            "text/plain": [
              "<Figure size 400x300 with 1 Axes>"
            ],
            "image/png": "[encoded data removed]"
          },
          "metadata": {}
        }
      ]
    },
    {
      "cell_type": "code",
      "source": [
        "# Візуалізація тренувальних та тестових RMSE\n",
        "plt.figure(figsize=(4, 3))\n",
        "plt.plot(train_rmses, label='Train')\n",
        "plt.plot(test_rmses, label='Test')\n",
        "plt.legend(loc='best')\n",
        "plt.xlabel('Epochs')\n",
        "plt.ylabel('RMSE')\n",
        "plt.title('Training vs Test RMSE')\n",
        "plt.show()"
      ],
      "metadata": {
        "colab": {
          "base_uri": "https://localhost:8080/",
          "height": 333
        },
        "id": "2U5tiALzqWqc",
        "outputId": "bcb293a2-26c1-49d1-ad8f-31ba4b3a87bd"
      },
      "execution_count": 11,
      "outputs": [
        {
          "output_type": "display_data",
          "data": {
            "text/plain": [
              "<Figure size 400x300 with 1 Axes>"
            ],
            "image/png": "[encoded data removed]"
          },
          "metadata": {}
        }
      ]
    },
    {
      "cell_type": "markdown",
      "source": [
        "## Висновки"
      ],
      "metadata": {
        "id": "qRs2naz66CUH"
      }
    },
    {
      "cell_type": "markdown",
      "source": [
        "### Вибір гіперпараметрів"
      ],
      "metadata": {
        "id": "KQQk_GkW_waG"
      }
    },
    {
      "cell_type": "markdown",
      "source": [
        "200 епох було вибрано на основі аналізу тренувальних втрат і тестової помилки. Це дозволило досягти стабільного навчання без значного переобучення.\n",
        "\n",
        "Розмір батчу 32 — це стандартний розмір батчу, який забезпечує баланс між ефективністю навчання і стабільністю оновлень ваг.\n",
        "\n",
        "Швидкість навчання 5e-4 була обрана після тестування кількох значень. Вона виявилася оптимальною для стабільного зменшення втрат, уникнення переобучення і забезпечення плавної збіжності.\n",
        "\n",
        "MSELoss була вибрана як функція втрат для задачі регресії, оскільки вона добре підходить для мінімізації великих помилок, які можуть виникати при прогнозуванні неперервних значень, таких як міцність бетону."
      ],
      "metadata": {
        "id": "8Ie_3cbu_3vu"
      }
    },
    {
      "cell_type": "markdown",
      "source": [
        "### Про навчання моделі"
      ],
      "metadata": {
        "id": "swiYAHdK9I2m"
      }
    },
    {
      "cell_type": "markdown",
      "source": [
        "Модель була успішно навчена для задачі прогнозування міцності бетону на основі даних про склад компонентів. Використання нейронної мережі з трьома прихованими шарами (256 → 128 → 64 нейронів) показало стабільні результати. Швидкість навчання, встановлена на рівні 5e-4, забезпечила плавну збіжність без різких стрибків. Навчання тривало протягом 200 епох і тренувальна та тестова криві були досить близькими одна до одної. Це дозволяє зробити висновок, що модель добре навчається і досягає гарної збіжності на тренувальних даних."
      ],
      "metadata": {
        "id": "OtCSMP3s9MlZ"
      }
    },
    {
      "cell_type": "markdown",
      "source": [
        "### Результати на валідаційній вибірці"
      ],
      "metadata": {
        "id": "G49V5dd59PYn"
      }
    },
    {
      "cell_type": "markdown",
      "source": [
        "Після навчання на валідаційній вибірці були отримані наступні результати:\n",
        "\n",
        "MSE: 37.8656<br>\n",
        "MAE: 4.5077<br>\n",
        "R²: 0.8531<br>\n",
        "\n",
        "Ці результати демонструють високу точність моделі. Значення MSE вказує на низький рівень середньої помилки у прогнозах, а MAE свідчить про те, що в середньому модель помиляється приблизно на 4.5 одиниць міцності бетону. R² на рівні 0.8531 показує, що модель добре узагальнює дані.\n",
        "\n",
        "Модель стабільно працювала як на тренувальних, так і на тестових даних, не демонструючи значних ознак переобучення. Невелика різниця між тренувальними та тестовими втратами після 150-ї епохи підтверджує, що модель здатна узагальнювати дані та робити точні прогнози на нових даних."
      ],
      "metadata": {
        "id": "oNhlyKnR9bfB"
      }
    }
  ]
}